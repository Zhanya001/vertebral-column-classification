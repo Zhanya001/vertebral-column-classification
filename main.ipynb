{
 "cells": [
  {
   "cell_type": "code",
   "execution_count": 1,
   "metadata": {},
   "outputs": [],
   "source": [
    "from ucimlrepo import fetch_ucirepo\n",
    "import pandas as pd\n",
    "from sklearn.model_selection import train_test_split, GridSearchCV, RandomizedSearchCV\n",
    "from sklearn.tree import DecisionTreeClassifier\n",
    "from sklearn.preprocessing import StandardScaler\n",
    "from sklearn.metrics import accuracy_score, classification_report\n",
    "from scipy.stats import randint\n",
    "import matplotlib.pyplot as plt\n"
   ]
  },
  {
   "cell_type": "code",
   "execution_count": 2,
   "metadata": {},
   "outputs": [
    {
     "name": "stdout",
     "output_type": "stream",
     "text": [
      "   pelvic_incidence  pelvic_tilt  lumbar_lordosis_angle  sacral_slope  \\\n",
      "0         63.027817    22.552586              39.609117     40.475232   \n",
      "1         39.056951    10.060991              25.015378     28.995960   \n",
      "2         68.832021    22.218482              50.092194     46.613539   \n",
      "3         69.297008    24.652878              44.311238     44.644130   \n",
      "4         49.712859     9.652075              28.317406     40.060784   \n",
      "\n",
      "   pelvic_radius  degree_spondylolisthesis  \n",
      "0      98.672917                 -0.254400  \n",
      "1     114.405425                  4.564259  \n",
      "2     105.985135                 -3.530317  \n",
      "3     101.868495                 11.211523  \n",
      "4     108.168725                  7.918501       class\n",
      "0  Hernia\n",
      "1  Hernia\n",
      "2  Hernia\n",
      "3  Hernia\n",
      "4  Hernia\n"
     ]
    }
   ],
   "source": [
    "# Cargar el dataset desde UCI Machine Learning Repository\n",
    "vertebral_column = fetch_ucirepo(id=212)\n",
    "X = vertebral_column.data.features\n",
    "y = vertebral_column.data.targets\n",
    "\n",
    "# Mostrar primeras filas del dataset\n",
    "print(X.head(), y.head())\n"
   ]
  },
  {
   "cell_type": "code",
   "execution_count": 3,
   "metadata": {},
   "outputs": [],
   "source": [
    "# Dividir los datos en entrenamiento y prueba\n",
    "X_train, X_test, y_train, y_test = train_test_split(X, y, test_size=0.3, random_state=42)\n",
    "\n",
    "# Escalar los datos\n",
    "scaler = StandardScaler()\n",
    "X_train_scaled = scaler.fit_transform(X_train)\n",
    "X_test_scaled = scaler.transform(X_test)\n"
   ]
  },
  {
   "cell_type": "code",
   "execution_count": 4,
   "metadata": {},
   "outputs": [
    {
     "name": "stdout",
     "output_type": "stream",
     "text": [
      "Mejores hiperparámetros (GridSearchCV): {'max_depth': None, 'min_samples_leaf': 1, 'min_samples_split': 4}\n"
     ]
    }
   ],
   "source": [
    "# Buscar hiperparámetros con GridSearchCV\n",
    "param_grid = {'max_depth': [None, 4, 6, 8, 10], 'min_samples_split': [2, 3, 4], 'min_samples_leaf': [1, 2, 3]}\n",
    "grid_search = GridSearchCV(DecisionTreeClassifier(random_state=42), param_grid, cv=5, scoring='accuracy')\n",
    "grid_search.fit(X_train_scaled, y_train)\n",
    "\n",
    "# Mostrar mejores hiperparámetros\n",
    "print(\"Mejores hiperparámetros (GridSearchCV):\", grid_search.best_params_)\n"
   ]
  },
  {
   "cell_type": "code",
   "execution_count": 5,
   "metadata": {},
   "outputs": [
    {
     "name": "stdout",
     "output_type": "stream",
     "text": [
      "Accuracy: 0.7634408602150538\n",
      "                   precision    recall  f1-score   support\n",
      "\n",
      "           Hernia       0.53      0.44      0.48        18\n",
      "           Normal       0.55      0.67      0.60        24\n",
      "Spondylolisthesis       0.96      0.92      0.94        51\n",
      "\n",
      "         accuracy                           0.76        93\n",
      "        macro avg       0.68      0.68      0.68        93\n",
      "     weighted avg       0.77      0.76      0.77        93\n",
      "\n"
     ]
    }
   ],
   "source": [
    "# Evaluar el modelo final\n",
    "clf_final = grid_search.best_estimator_\n",
    "y_pred_final = clf_final.predict(X_test_scaled)\n",
    "\n",
    "# Imprimir métricas de rendimiento\n",
    "print(f\"Accuracy: {accuracy_score(y_test, y_pred_final)}\")\n",
    "print(classification_report(y_test, y_pred_final))\n"
   ]
  },
  {
   "cell_type": "code",
   "execution_count": null,
   "metadata": {},
   "outputs": [],
   "source": [
    "# Poda del árbol usando max_depth y min_samples_leaf\n",
    "depth_scores = []\n",
    "for depth in [4, 6, 8]:\n",
    "    clf = DecisionTreeClassifier(max_depth=depth, random_state=42)\n",
    "    clf.fit(X_train_scaled, y_train)\n",
    "    y_pred = clf.predict(X_test_scaled)\n",
    "    depth_scores.append(accuracy_score(y_test, y_pred))\n",
    "    print(f\"Accuracy (max_depth={depth}): {accuracy_score(y_test, y_pred)}\")\n",
    "\n",
    "min_samples_scores = []\n",
    "for min_samples in [2, 4, 6]:\n",
    "    clf = DecisionTreeClassifier(min_samples_leaf=min_samples, random_state=42)\n",
    "    clf.fit(X_train_scaled, y_train)\n",
    "    y_pred = clf.predict(X_test_scaled)\n",
    "    min_samples_scores.append(accuracy_score(y_test, y_pred))\n",
    "    print(f\"Accuracy (min_samples_leaf={min_samples}): {accuracy_score(y_test, y_pred)}\")\n"
   ]
  }
 ],
 "metadata": {
  "kernelspec": {
   "display_name": "venv",
   "language": "python",
   "name": "python3"
  },
  "language_info": {
   "codemirror_mode": {
    "name": "ipython",
    "version": 3
   },
   "file_extension": ".py",
   "mimetype": "text/x-python",
   "name": "python",
   "nbconvert_exporter": "python",
   "pygments_lexer": "ipython3",
   "version": "3.12.5"
  }
 },
 "nbformat": 4,
 "nbformat_minor": 2
}
